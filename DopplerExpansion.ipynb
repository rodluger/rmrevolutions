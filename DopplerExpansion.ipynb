{
 "cells": [
  {
   "cell_type": "markdown",
   "metadata": {},
   "source": [
    "# Spherical harmonic expansion of the Doppler operator"
   ]
  },
  {
   "cell_type": "markdown",
   "metadata": {},
   "source": [
    "Given a rigidly star rotating viewed at an inclination of $90^\\circ$ with zero obliquity, the radial component of the velocity field is just $v(x, y) = x$. When Taylor expanding the Doppler operator, we need to know what integer powers of this expression look like when expressed in terms of spherical harmmonics. Below we compute the corresponding spherical harmonic coefficients."
   ]
  },
  {
   "cell_type": "markdown",
   "metadata": {
    "heading_collapsed": true
   },
   "source": [
    "## Imports"
   ]
  },
  {
   "cell_type": "markdown",
   "metadata": {
    "hidden": true
   },
   "source": [
    "First, let's import some stuff. We'll use `sympy` for the derivations."
   ]
  },
  {
   "cell_type": "code",
   "execution_count": 1,
   "metadata": {
    "hidden": true
   },
   "outputs": [
    {
     "name": "stdout",
     "output_type": "stream",
     "text": [
      "Using sympy version 1.3\n",
      "\n"
     ]
    }
   ],
   "source": [
    "import matplotlib.pyplot as pl\n",
    "%matplotlib notebook\n",
    "import numpy as np\n",
    "from IPython.display import display, Math\n",
    "import sympy\n",
    "from sympy import *\n",
    "from sympy.functions.special.tensor_functions import KroneckerDelta\n",
    "print(\"Using sympy version\", sympy.__version__)\n",
    "\n",
    "# Initialize the session\n",
    "init_session(quiet=True)\n",
    "\n",
    "# Define our symbols\n",
    "x, y, z, mu, nu, l, m, j, k, p, q, n, A, B, C, alpha, omeq = symbols('x y z mu nu l m j k p q n A B C alpha \\omega_{eq}')"
   ]
  },
  {
   "cell_type": "markdown",
   "metadata": {
    "heading_collapsed": true
   },
   "source": [
    "## Polynomials to spherical harmonics"
   ]
  },
  {
   "cell_type": "markdown",
   "metadata": {
    "hidden": true
   },
   "source": [
    "As in Luger et al. (2018), let's compute the change of basis matrix from polynomials to spherical harmonic coefficients. This is the inverse of the $A_1$ matrix introduced in Luger et al. (2018). Note that it includes the normalization of $\\frac{2}{\\sqrt{\\pi}}$ used internally by `starry`."
   ]
  },
  {
   "cell_type": "code",
   "execution_count": 6,
   "metadata": {
    "hidden": true
   },
   "outputs": [],
   "source": [
    "def poly_basis(n, x, y):\n",
    "    \"\"\"Return the n^th term in the polynomial basis.\"\"\"\n",
    "    l = Rational(floor(sqrt(n)))\n",
    "    m = Rational(n - l * l - l)\n",
    "    mu = Rational(l - m)\n",
    "    nu = Rational(l + m)\n",
    "    if (nu % 2 == 0):\n",
    "        i = Rational(mu, 2)\n",
    "        j = Rational(nu, 2)\n",
    "        k = Rational(0)\n",
    "    else:\n",
    "        i = Rational(mu - 1, 2)\n",
    "        j = Rational(nu - 1, 2)\n",
    "        k = Rational(1)\n",
    "    return x ** i * y ** j * sqrt(1 - x ** 2 - y ** 2) ** k\n",
    "\n",
    "def Coefficient(expression, term):\n",
    "    \"\"\"Return the coefficient multiplying `term` in `expression`.\"\"\"\n",
    "    # Get the coefficient\n",
    "    coeff = expression.coeff(term)\n",
    "    # Set any non-constants in this coefficient to zero. If the coefficient\n",
    "    # is not a constant, this is not the term we are interested in!\n",
    "    coeff = coeff.subs(sqrt(1 - x ** 2 - y ** 2), 0).subs(x, 0).subs(y, 0)\n",
    "    return coeff\n",
    "\n",
    "def SA(l, m):\n",
    "    \"\"\"A spherical harmonic normalization constant.\"\"\"\n",
    "    return sqrt((2 - KroneckerDelta(m, 0)) * (2 * l + 1) * factorial(l - m) / (4 * pi * factorial(l + m)))\n",
    "\n",
    "def SB(l, m, j, k):\n",
    "    \"\"\"Another spherical harmonic normalization constant.\"\"\"\n",
    "    try: \n",
    "        ratio = factorial(Rational(l + m + k - 1, 2)) / factorial(Rational(-l + m + k - 1,  2))\n",
    "    except ValueError:\n",
    "        ratio = 0\n",
    "    res = 2 ** l * Rational(factorial(m), (factorial(j) * factorial(k) * factorial(m - j) * factorial(l - m - k))) * ratio\n",
    "    return simplify(res)\n",
    "\n",
    "def SC(p, q, k):\n",
    "    \"\"\"Return the binomial theorem coefficient `C`.\"\"\"\n",
    "    res = factorial(Rational(k, 2)) / (factorial(Rational(q, 2)) * factorial(Rational(k - p, 2)) * factorial(Rational(p - q, 2)))\n",
    "    return simplify(res)\n",
    "\n",
    "def Y(l, m, x, y):\n",
    "    \"\"\"Return the spherical harmonic of degree `l` and order `m`.\"\"\"\n",
    "    res = 0\n",
    "    z = sqrt(1 - x ** 2 - y ** 2)\n",
    "    if (m >= 0):\n",
    "        for j in range(0, m + 1, 2):\n",
    "            for k in range(0, l - m + 1, 2):\n",
    "                for p in range(0, k + 1, 2):\n",
    "                    for q in range(0, p + 1, 2):\n",
    "                        res += (-1) ** ((j + p) // 2) * SA(l, m) * SB(l, m, j, k) * SC(p, q, k) * x ** (m - j + p - q) * y ** (j + q)\n",
    "            for k in range(1, l - m + 1, 2):\n",
    "                for p in range(0, k, 2):\n",
    "                    for q in range(0, p + 1, 2):\n",
    "                        res += (-1) ** ((j + p) // 2) * SA(l, m) * SB(l, m, j, k) * SC(p, q, k - 1) * x ** (m - j + p - q) * y ** (j + q) * z          \n",
    "    else:\n",
    "        for j in range(1, abs(m) + 1, 2):\n",
    "            for k in range(0, l - abs(m) + 1, 2):\n",
    "                for p in range(0, k + 1, 2):\n",
    "                    for q in range(0, p + 1, 2):\n",
    "                        res += (-1) ** ((j + p - 1) // 2) * SA(l, abs(m)) * SB(l, abs(m), j, k) * SC(p, q, k) * x ** (abs(m) - j + p - q) * y ** (j + q)\n",
    "            for k in range(1, l - abs(m) + 1, 2):\n",
    "                for p in range(0, k, 2):\n",
    "                    for q in range(0, p + 1, 2):\n",
    "                        res += (-1) ** ((j + p - 1) // 2) * SA(l, abs(m)) * SB(l, abs(m), j, k) * SC(p, q, k - 1) * x ** (abs(m) - j + p - q) * y ** (j + q) * z\n",
    "\n",
    "    return res\n",
    "\n",
    "def p_Y(l, m, lmax):\n",
    "    \"\"\"Return the polynomial basis representation of the spherical harmonic `Y_{lm}`.\"\"\"\n",
    "    ylm = Y(l, m, x, y)\n",
    "    res = [ylm.subs(sqrt(1 - x ** 2 - y ** 2), 0).subs(x, 0).subs(y, 0)]\n",
    "    for n in range(1, (lmax + 1) ** 2):\n",
    "        res.append(Coefficient(ylm, poly_basis(n, x, y)))\n",
    "    return res\n",
    "\n",
    "def A1(lmax, norm = 2 / sqrt(pi)):\n",
    "    \"\"\"Return the change of basis matrix A1. The columns of this matrix are given by `p_Y`.\"\"\"\n",
    "    res = zeros((lmax + 1) ** 2, (lmax + 1) ** 2)\n",
    "    n = 0\n",
    "    for l in range(lmax + 1):\n",
    "        for m in range(-l, l + 1):\n",
    "            res[n] = p_Y(l, m, lmax)\n",
    "            n += 1\n",
    "    return res * norm"
   ]
  },
  {
   "cell_type": "markdown",
   "metadata": {
    "hidden": true
   },
   "source": [
    "We can now evaluate the change of basis matrix from spherical harmonic coefficients to polynomials, $A_1$ for $l_\\mathrm{max} = 2$. We then take the inverse to go from polynomial coeffiecients to $Y_{lm}$ coefficients:"
   ]
  },
  {
   "cell_type": "code",
   "execution_count": 7,
   "metadata": {
    "hidden": true
   },
   "outputs": [
    {
     "data": {
      "text/latex": [
       "$$\\left[\\begin{matrix}\\pi & 0 & 0 & 0 & \\frac{\\pi}{3} & 0 & 0 & 0 & \\frac{\\pi}{3}\\\\0 & 0 & 0 & \\frac{\\sqrt{3} \\pi}{3} & 0 & 0 & 0 & 0 & 0\\\\0 & 0 & \\frac{\\sqrt{3} \\pi}{3} & 0 & 0 & 0 & 0 & 0 & 0\\\\0 & \\frac{\\sqrt{3} \\pi}{3} & 0 & 0 & 0 & 0 & 0 & 0 & 0\\\\0 & 0 & 0 & 0 & 0 & 0 & \\frac{\\sqrt{15} \\pi}{15} & 0 & 0\\\\0 & 0 & 0 & 0 & 0 & 0 & 0 & \\frac{\\sqrt{15} \\pi}{15} & 0\\\\0 & 0 & 0 & 0 & - \\frac{\\sqrt{5} \\pi}{15} & 0 & 0 & 0 & - \\frac{\\sqrt{5} \\pi}{15}\\\\0 & 0 & 0 & 0 & 0 & \\frac{\\sqrt{15} \\pi}{15} & 0 & 0 & 0\\\\0 & 0 & 0 & 0 & \\frac{\\sqrt{15} \\pi}{15} & 0 & 0 & 0 & - \\frac{\\sqrt{15} \\pi}{15}\\end{matrix}\\right]$$"
      ],
      "text/plain": [
       "⎡                       π                             π   ⎤\n",
       "⎢π   0     0     0      ─       0      0      0       ─   ⎥\n",
       "⎢                       3                             3   ⎥\n",
       "⎢                                                         ⎥\n",
       "⎢               √3⋅π                                      ⎥\n",
       "⎢0   0     0    ────    0       0      0      0       0   ⎥\n",
       "⎢                3                                        ⎥\n",
       "⎢                                                         ⎥\n",
       "⎢         √3⋅π                                            ⎥\n",
       "⎢0   0    ────   0      0       0      0      0       0   ⎥\n",
       "⎢          3                                              ⎥\n",
       "⎢                                                         ⎥\n",
       "⎢   √3⋅π                                                  ⎥\n",
       "⎢0  ────   0     0      0       0      0      0       0   ⎥\n",
       "⎢    3                                                    ⎥\n",
       "⎢                                                         ⎥\n",
       "⎢                                    √15⋅π                ⎥\n",
       "⎢0   0     0     0      0       0    ─────    0       0   ⎥\n",
       "⎢                                      15                 ⎥\n",
       "⎢                                                         ⎥\n",
       "⎢                                           √15⋅π         ⎥\n",
       "⎢0   0     0     0      0       0      0    ─────     0   ⎥\n",
       "⎢                                             15          ⎥\n",
       "⎢                                                         ⎥\n",
       "⎢                     -√5⋅π                        -√5⋅π  ⎥\n",
       "⎢0   0     0     0    ──────    0      0      0    ────── ⎥\n",
       "⎢                       15                           15   ⎥\n",
       "⎢                                                         ⎥\n",
       "⎢                             √15⋅π                       ⎥\n",
       "⎢0   0     0     0      0     ─────    0      0       0   ⎥\n",
       "⎢                               15                        ⎥\n",
       "⎢                                                         ⎥\n",
       "⎢                     √15⋅π                        -√15⋅π ⎥\n",
       "⎢0   0     0     0    ─────     0      0      0    ───────⎥\n",
       "⎣                       15                            15  ⎦"
      ]
     },
     "execution_count": 7,
     "metadata": {},
     "output_type": "execute_result"
    }
   ],
   "source": [
    "M = Matrix(A1(2)).inv()\n",
    "M"
   ]
  },
  {
   "cell_type": "markdown",
   "metadata": {},
   "source": [
    "## $1$"
   ]
  },
  {
   "cell_type": "code",
   "execution_count": 14,
   "metadata": {},
   "outputs": [
    {
     "data": {
      "text/latex": [
       "$$\\left[\\begin{matrix}\\pi & 0 & 0 & 0 & 0 & 0 & 0 & 0 & 0\\end{matrix}\\right]$$"
      ],
      "text/plain": [
       "[π  0  0  0  0  0  0  0  0]"
      ]
     },
     "execution_count": 14,
     "metadata": {},
     "output_type": "execute_result"
    }
   ],
   "source": [
    "vec = Matrix([1, 0, 0, 0, 0, 0, 0, 0, 0])\n",
    "ycoeffs = simplify(M * vec)\n",
    "ycoeffs.T"
   ]
  },
  {
   "cell_type": "markdown",
   "metadata": {},
   "source": [
    "## $x$"
   ]
  },
  {
   "cell_type": "code",
   "execution_count": 12,
   "metadata": {},
   "outputs": [
    {
     "data": {
      "text/latex": [
       "$$\\left[\\begin{matrix}0 & 0 & 0 & \\frac{\\sqrt{3} \\pi}{3} & 0 & 0 & 0 & 0 & 0\\end{matrix}\\right]$$"
      ],
      "text/plain": [
       "⎡         √3⋅π               ⎤\n",
       "⎢0  0  0  ────  0  0  0  0  0⎥\n",
       "⎣          3                 ⎦"
      ]
     },
     "execution_count": 12,
     "metadata": {},
     "output_type": "execute_result"
    }
   ],
   "source": [
    "vec = Matrix([0, 1, 0, 0, 0, 0, 0, 0, 0])\n",
    "ycoeffs = simplify(M * vec)\n",
    "ycoeffs.T"
   ]
  },
  {
   "cell_type": "markdown",
   "metadata": {},
   "source": [
    "## $x^2$"
   ]
  },
  {
   "cell_type": "code",
   "execution_count": 13,
   "metadata": {},
   "outputs": [
    {
     "data": {
      "text/latex": [
       "$$\\left[\\begin{matrix}\\frac{\\pi}{3} & 0 & 0 & 0 & 0 & 0 & - \\frac{\\sqrt{5} \\pi}{15} & 0 & \\frac{\\sqrt{15} \\pi}{15}\\end{matrix}\\right]$$"
      ],
      "text/plain": [
       "⎡π                 -√5⋅π      √15⋅π⎤\n",
       "⎢─  0  0  0  0  0  ──────  0  ─────⎥\n",
       "⎣3                   15         15 ⎦"
      ]
     },
     "execution_count": 13,
     "metadata": {},
     "output_type": "execute_result"
    }
   ],
   "source": [
    "vec = Matrix([0, 0, 0, 0, 1, 0, 0, 0, 0])\n",
    "ycoeffs = simplify(M * vec)\n",
    "ycoeffs.T"
   ]
  },
  {
   "cell_type": "code",
   "execution_count": null,
   "metadata": {},
   "outputs": [],
   "source": []
  }
 ],
 "metadata": {
  "kernelspec": {
   "display_name": "Python 3",
   "language": "python",
   "name": "python3"
  },
  "language_info": {
   "codemirror_mode": {
    "name": "ipython",
    "version": 3
   },
   "file_extension": ".py",
   "mimetype": "text/x-python",
   "name": "python",
   "nbconvert_exporter": "python",
   "pygments_lexer": "ipython3",
   "version": "3.6.5"
  }
 },
 "nbformat": 4,
 "nbformat_minor": 2
}
