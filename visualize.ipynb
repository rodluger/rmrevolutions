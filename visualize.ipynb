{
 "cells": [
  {
   "cell_type": "code",
   "execution_count": 6,
   "metadata": {},
   "outputs": [],
   "source": [
    "import numpy as np\n",
    "import starry\n",
    "\n",
    "import matplotlib.pyplot as pl\n",
    "%matplotlib inline\n",
    "%config InlineBackend.figure_format = \"retina\"\n",
    "from matplotlib import rcParams\n",
    "rcParams[\"savefig.dpi\"] = 100\n",
    "rcParams[\"figure.dpi\"] = 100\n",
    "\n",
    "from ipywidgets import interact, interactive, fixed, interact_manual\n",
    "import ipywidgets as widgets\n",
    "from ipywidgets import Layout"
   ]
  },
  {
   "cell_type": "code",
   "execution_count": 2,
   "metadata": {},
   "outputs": [],
   "source": [
    "def visualize(inc=90, obl=0, alpha=0):\n",
    "    res = 300\n",
    "    omega = 1\n",
    "\n",
    "    theta = obl * np.pi / 180\n",
    "    phi = inc * np.pi / 180\n",
    "    cosphi = np.cos(phi)\n",
    "    sinphi = np.sin(phi)\n",
    "    costheta = np.cos(theta)\n",
    "    sintheta = np.sin(theta)\n",
    "    A = sinphi * costheta\n",
    "    B = sinphi * sintheta\n",
    "\n",
    "    xgrid = np.linspace(-1, 1, res)\n",
    "    ygrid = np.linspace(-1, 1, res)\n",
    "    img = np.zeros((res, res)) * np.nan\n",
    "    for i, x in enumerate(xgrid):\n",
    "        for j, y in enumerate(ygrid):\n",
    "            if (x ** 2 + y ** 2 < 1):\n",
    "                z = np.sqrt(1 - x ** 2 - y ** 2)\n",
    "                img[j, i] = omega * (A * x + B * y) * (1 - alpha * (-B * x + A * y + z * cosphi) ** 2)\n",
    "\n",
    "    # Plot it\n",
    "    pl.imshow(img, cmap='RdBu_r', origin='lower', vmin=-1, vmax=1)\n",
    "    cb = pl.colorbar();\n",
    "    cb.ax.set_ylabel(\"Radial velocity [scaled]\")\n",
    "    pl.contour(img, origin='lower', levels=np.linspace(-1, 1, 20), colors=['k' for i in range(20)], alpha=0.25);\n",
    "    pl.gca().axis('off');\n",
    "    pl.gca().set_aspect(1)"
   ]
  },
  {
   "cell_type": "code",
   "execution_count": 3,
   "metadata": {},
   "outputs": [],
   "source": [
    "oslider = \\\n",
    "widgets.FloatSlider(\n",
    "    value=0,\n",
    "    min=-90,\n",
    "    max=90.0,\n",
    "    step=1,\n",
    "    description='Obliquity:',\n",
    "    disabled=False,\n",
    "    continuous_update=False,\n",
    "    orientation='horizontal',\n",
    "    readout=True,\n",
    "    readout_format='.0f',\n",
    "    layout=Layout(width='40%')\n",
    ")\n",
    "\n",
    "islider = \\\n",
    "widgets.FloatSlider(\n",
    "    value=90,\n",
    "    min=0,\n",
    "    max=180.0,\n",
    "    step=1,\n",
    "    description='Inclination:',\n",
    "    disabled=False,\n",
    "    continuous_update=False,\n",
    "    orientation='horizontal',\n",
    "    readout=True,\n",
    "    readout_format='.0f',\n",
    "    layout=Layout(width='40%')\n",
    ")\n",
    "\n",
    "aslider = \\\n",
    "widgets.FloatSlider(\n",
    "    value=0,\n",
    "    min=0,\n",
    "    max=1.0,\n",
    "    step=0.01,\n",
    "    description='Shear:',\n",
    "    disabled=False,\n",
    "    continuous_update=False,\n",
    "    orientation='horizontal',\n",
    "    readout=True,\n",
    "    readout_format='.2f',\n",
    "    layout=Layout(width='40%')\n",
    ")"
   ]
  },
  {
   "cell_type": "code",
   "execution_count": 7,
   "metadata": {},
   "outputs": [
    {
     "data": {
      "application/vnd.jupyter.widget-view+json": {
       "model_id": "bcea93dee09c4050bf083b2dac6fc56b",
       "version_major": 2,
       "version_minor": 0
      },
      "text/plain": [
       "interactive(children=(FloatSlider(value=90.0, continuous_update=False, description='Inclination:', layout=Layo…"
      ]
     },
     "metadata": {},
     "output_type": "display_data"
    }
   ],
   "source": [
    "interact(visualize, inc=islider, obl=oslider, alpha=aslider);"
   ]
  }
 ],
 "metadata": {
  "kernelspec": {
   "display_name": "Python 3",
   "language": "python",
   "name": "python3"
  },
  "language_info": {
   "codemirror_mode": {
    "name": "ipython",
    "version": 3
   },
   "file_extension": ".py",
   "mimetype": "text/x-python",
   "name": "python",
   "nbconvert_exporter": "python",
   "pygments_lexer": "ipython3",
   "version": "3.6.5"
  }
 },
 "nbformat": 4,
 "nbformat_minor": 2
}
