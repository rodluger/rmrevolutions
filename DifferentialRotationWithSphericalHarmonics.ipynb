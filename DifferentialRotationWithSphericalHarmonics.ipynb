{
 "cells": [
  {
   "cell_type": "markdown",
   "metadata": {},
   "source": [
    "# Differential rotation with `starry`"
   ]
  },
  {
   "cell_type": "markdown",
   "metadata": {},
   "source": [
    "First, let's compute the change of basis matrix from polynomials to spherical harmonic coefficients. This is the inverse of the $A_1$ matrix introduced in Luger et al. (2018). Note that it includes the normalization of $\\frac{2}{\\sqrt{\\pi}}$ used internally by `starry`."
   ]
  },
  {
   "cell_type": "code",
   "execution_count": 2,
   "metadata": {},
   "outputs": [
    {
     "name": "stdout",
     "output_type": "stream",
     "text": [
      "\n",
      "Using sympy version 1.3\n"
     ]
    }
   ],
   "source": [
    "import matplotlib.pyplot as pl\n",
    "%matplotlib notebook\n",
    "import numpy as np\n",
    "from IPython.display import display, Math\n",
    "import sympy\n",
    "from sympy import *\n",
    "from sympy.functions.special.tensor_functions import KroneckerDelta\n",
    "\n",
    "# Initialize the session\n",
    "init_session(quiet=True)\n",
    "\n",
    "# I am using the dev version of sympy\n",
    "print(\"Using sympy version\", sympy.__version__)\n",
    "\n",
    "# Define our symbols\n",
    "x, y, z, mu, nu, l, m, j, k, p, q, n, A, B, C, alpha = symbols('x y z mu nu l m j k p q n A B C alpha')"
   ]
  },
  {
   "cell_type": "code",
   "execution_count": 3,
   "metadata": {},
   "outputs": [],
   "source": [
    "def ptilde(n, x, y):\n",
    "    \"\"\"Return the n^th term in the polynomial basis.\"\"\"\n",
    "    l = Rational(floor(sqrt(n)))\n",
    "    m = Rational(n - l * l - l)\n",
    "    mu = Rational(l - m)\n",
    "    nu = Rational(l + m)\n",
    "    if (nu % 2 == 0):\n",
    "        i = Rational(mu, 2)\n",
    "        j = Rational(nu, 2)\n",
    "        k = Rational(0)\n",
    "    else:\n",
    "        i = Rational(mu - 1, 2)\n",
    "        j = Rational(nu - 1, 2)\n",
    "        k = Rational(1)\n",
    "    return x ** i * y ** j * sqrt(1 - x ** 2 - y ** 2) ** k\n",
    "\n",
    "def SA(l, m):\n",
    "    \"\"\"A spherical harmonic normalization constant.\"\"\"\n",
    "    return sqrt((2 - KroneckerDelta(m, 0)) * (2 * l + 1) * factorial(l - m) / (4 * pi * factorial(l + m)))\n",
    "\n",
    "def SB(l, m, j, k):\n",
    "    \"\"\"Another spherical harmonic normalization constant.\"\"\"\n",
    "    try: \n",
    "        ratio = factorial(Rational(l + m + k - 1, 2)) / factorial(Rational(-l + m + k - 1,  2))\n",
    "    except ValueError:\n",
    "        ratio = 0\n",
    "    res = 2 ** l * Rational(factorial(m), (factorial(j) * factorial(k) * factorial(m - j) * factorial(l - m - k))) * ratio\n",
    "    return simplify(res)\n",
    "\n",
    "def SC(p, q, k):\n",
    "    \"\"\"Return the binomial theorem coefficient `C`.\"\"\"\n",
    "    res = factorial(Rational(k, 2)) / (factorial(Rational(q, 2)) * factorial(Rational(k - p, 2)) * factorial(Rational(p - q, 2)))\n",
    "    return simplify(res)\n",
    "\n",
    "def Y(l, m, x, y):\n",
    "    \"\"\"Return the spherical harmonic of degree `l` and order `m`.\"\"\"\n",
    "    res = 0\n",
    "    z = sqrt(1 - x ** 2 - y ** 2)\n",
    "    if (m >= 0):\n",
    "        for j in range(0, m + 1, 2):\n",
    "            for k in range(0, l - m + 1, 2):\n",
    "                for p in range(0, k + 1, 2):\n",
    "                    for q in range(0, p + 1, 2):\n",
    "                        res += (-1) ** ((j + p) // 2) * SA(l, m) * SB(l, m, j, k) * SC(p, q, k) * x ** (m - j + p - q) * y ** (j + q)\n",
    "            for k in range(1, l - m + 1, 2):\n",
    "                for p in range(0, k, 2):\n",
    "                    for q in range(0, p + 1, 2):\n",
    "                        res += (-1) ** ((j + p) // 2) * SA(l, m) * SB(l, m, j, k) * SC(p, q, k - 1) * x ** (m - j + p - q) * y ** (j + q) * z          \n",
    "    else:\n",
    "        for j in range(1, abs(m) + 1, 2):\n",
    "            for k in range(0, l - abs(m) + 1, 2):\n",
    "                for p in range(0, k + 1, 2):\n",
    "                    for q in range(0, p + 1, 2):\n",
    "                        res += (-1) ** ((j + p - 1) // 2) * SA(l, abs(m)) * SB(l, abs(m), j, k) * SC(p, q, k) * x ** (abs(m) - j + p - q) * y ** (j + q)\n",
    "            for k in range(1, l - abs(m) + 1, 2):\n",
    "                for p in range(0, k, 2):\n",
    "                    for q in range(0, p + 1, 2):\n",
    "                        res += (-1) ** ((j + p - 1) // 2) * SA(l, abs(m)) * SB(l, abs(m), j, k) * SC(p, q, k - 1) * x ** (abs(m) - j + p - q) * y ** (j + q) * z\n",
    "\n",
    "    return res\n",
    "\n",
    "def Coefficient(expression, term):\n",
    "    \"\"\"Return the coefficient multiplying `term` in `expression`.\"\"\"\n",
    "    # Get the coefficient\n",
    "    coeff = expression.coeff(term)\n",
    "    # Set any non-constants in this coefficient to zero. If the coefficient\n",
    "    # is not a constant, this is not the term we are interested in!\n",
    "    coeff = coeff.subs(sqrt(1 - x ** 2 - y ** 2), 0).subs(x, 0).subs(y, 0)\n",
    "    return coeff\n",
    "\n",
    "def p_Y(l, m, lmax):\n",
    "    \"\"\"Return the polynomial basis representation of the spherical harmonic `Y_{lm}`.\"\"\"\n",
    "    ylm = Y(l, m, x, y)\n",
    "    res = [ylm.subs(sqrt(1 - x ** 2 - y ** 2), 0).subs(x, 0).subs(y, 0)]\n",
    "    for n in range(1, (lmax + 1) ** 2):\n",
    "        res.append(Coefficient(ylm, ptilde(n, x, y)))\n",
    "    return res\n",
    "\n",
    "def A1(lmax, norm = 2 / sqrt(pi)):\n",
    "    \"\"\"Return the change of basis matrix A1. The columns of this matrix are given by `p_Y`.\"\"\"\n",
    "    res = zeros((lmax + 1) ** 2, (lmax + 1) ** 2)\n",
    "    n = 0\n",
    "    for l in range(lmax + 1):\n",
    "        for m in range(-l, l + 1):\n",
    "            res[n] = p_Y(l, m, lmax)\n",
    "            n += 1\n",
    "    return res * norm"
   ]
  },
  {
   "cell_type": "markdown",
   "metadata": {},
   "source": [
    "We can finally evaluate the change of basis matrix from spherical harmonic coefficients to polynomials, $A_1$ for $l_\\mathrm{max} = 3$. We then take the inverse to go from polynomial coeffiecients to Ylm coefficients:"
   ]
  },
  {
   "cell_type": "code",
   "execution_count": 4,
   "metadata": {},
   "outputs": [
    {
     "data": {
      "text/latex": [
       "$$\\left[\\begin{array}{cccccccccccccccc}\\pi & 0 & 0 & 0 & \\frac{\\pi}{3} & 0 & 0 & 0 & \\frac{\\pi}{3} & 0 & 0 & 0 & 0 & 0 & 0 & 0\\\\0 & 0 & 0 & \\frac{\\sqrt{3} \\pi}{3} & 0 & 0 & 0 & 0 & 0 & 0 & 0 & \\frac{\\sqrt{3} \\pi}{15} & 0 & 0 & 0 & \\frac{\\sqrt{3} \\pi}{5}\\\\0 & 0 & \\frac{\\sqrt{3} \\pi}{3} & 0 & 0 & 0 & 0 & 0 & 0 & 0 & \\frac{\\sqrt{3} \\pi}{15} & 0 & 0 & 0 & \\frac{\\sqrt{3} \\pi}{15} & 0\\\\0 & \\frac{\\sqrt{3} \\pi}{3} & 0 & 0 & 0 & 0 & 0 & 0 & 0 & \\frac{\\sqrt{3} \\pi}{5} & 0 & 0 & 0 & \\frac{\\sqrt{3} \\pi}{15} & 0 & 0\\\\0 & 0 & 0 & 0 & 0 & 0 & \\frac{\\sqrt{15} \\pi}{15} & 0 & 0 & 0 & 0 & 0 & 0 & 0 & 0 & 0\\\\0 & 0 & 0 & 0 & 0 & 0 & 0 & \\frac{\\sqrt{15} \\pi}{15} & 0 & 0 & 0 & 0 & 0 & 0 & 0 & 0\\\\0 & 0 & 0 & 0 & - \\frac{\\sqrt{5} \\pi}{15} & 0 & 0 & 0 & - \\frac{\\sqrt{5} \\pi}{15} & 0 & 0 & 0 & 0 & 0 & 0 & 0\\\\0 & 0 & 0 & 0 & 0 & \\frac{\\sqrt{15} \\pi}{15} & 0 & 0 & 0 & 0 & 0 & 0 & 0 & 0 & 0 & 0\\\\0 & 0 & 0 & 0 & \\frac{\\sqrt{15} \\pi}{15} & 0 & 0 & 0 & - \\frac{\\sqrt{15} \\pi}{15} & 0 & 0 & 0 & 0 & 0 & 0 & 0\\\\0 & 0 & 0 & 0 & 0 & 0 & 0 & 0 & 0 & 0 & 0 & \\frac{\\sqrt{70} \\pi}{70} & 0 & 0 & 0 & - \\frac{\\sqrt{70} \\pi}{70}\\\\0 & 0 & 0 & 0 & 0 & 0 & 0 & 0 & 0 & 0 & 0 & 0 & \\frac{\\sqrt{105} \\pi}{105} & 0 & 0 & 0\\\\0 & 0 & 0 & 0 & 0 & 0 & 0 & 0 & 0 & 0 & 0 & - \\frac{\\sqrt{42} \\pi}{210} & 0 & 0 & 0 & - \\frac{\\sqrt{42} \\pi}{70}\\\\0 & 0 & 0 & 0 & 0 & 0 & 0 & 0 & 0 & 0 & - \\frac{\\sqrt{7} \\pi}{35} & 0 & 0 & 0 & - \\frac{\\sqrt{7} \\pi}{35} & 0\\\\0 & 0 & 0 & 0 & 0 & 0 & 0 & 0 & 0 & - \\frac{\\sqrt{42} \\pi}{70} & 0 & 0 & 0 & - \\frac{\\sqrt{42} \\pi}{210} & 0 & 0\\\\0 & 0 & 0 & 0 & 0 & 0 & 0 & 0 & 0 & 0 & \\frac{\\sqrt{105} \\pi}{105} & 0 & 0 & 0 & - \\frac{\\sqrt{105} \\pi}{105} & 0\\\\0 & 0 & 0 & 0 & 0 & 0 & 0 & 0 & 0 & \\frac{\\sqrt{70} \\pi}{70} & 0 & 0 & 0 & - \\frac{\\sqrt{70} \\pi}{70} & 0 & 0\\end{array}\\right]$$"
      ],
      "text/plain": [
       "⎡                       π                             π                       \n",
       "⎢π   0     0     0      ─       0      0      0       ─        0       0      \n",
       "⎢                       3                             3                       \n",
       "⎢                                                                             \n",
       "⎢               √3⋅π                                                          \n",
       "⎢0   0     0    ────    0       0      0      0       0        0       0      \n",
       "⎢                3                                                            \n",
       "⎢                                                                             \n",
       "⎢         √3⋅π                                                        √3⋅π    \n",
       "⎢0   0    ────   0      0       0      0      0       0        0      ────    \n",
       "⎢          3                                                           15     \n",
       "⎢                                                                             \n",
       "⎢   √3⋅π                                                     √3⋅π             \n",
       "⎢0  ────   0     0      0       0      0      0       0      ────      0      \n",
       "⎢    3                                                        5               \n",
       "⎢                                                                             \n",
       "⎢                                    √15⋅π                                    \n",
       "⎢0   0     0     0      0       0    ─────    0       0        0       0      \n",
       "⎢                                      15                                     \n",
       "⎢                                                                             \n",
       "⎢                                           √15⋅π                             \n",
       "⎢0   0     0     0      0       0      0    ─────     0        0       0      \n",
       "⎢                                             15                              \n",
       "⎢                                                                             \n",
       "⎢                     -√5⋅π                        -√5⋅π                      \n",
       "⎢0   0     0     0    ──────    0      0      0    ──────      0       0      \n",
       "⎢                       15                           15                       \n",
       "⎢                                                                             \n",
       "⎢                             √15⋅π                                           \n",
       "⎢0   0     0     0      0     ─────    0      0       0        0       0      \n",
       "⎢                               15                                            \n",
       "⎢                                                                             \n",
       "⎢                     √15⋅π                        -√15⋅π                     \n",
       "⎢0   0     0     0    ─────     0      0      0    ───────     0       0      \n",
       "⎢                       15                            15                      \n",
       "⎢                                                                             \n",
       "⎢                                                                             \n",
       "⎢0   0     0     0      0       0      0      0       0        0       0      \n",
       "⎢                                                                             \n",
       "⎢                                                                             \n",
       "⎢                                                                             \n",
       "⎢0   0     0     0      0       0      0      0       0        0       0      \n",
       "⎢                                                                             \n",
       "⎢                                                                             \n",
       "⎢                                                                            -\n",
       "⎢0   0     0     0      0       0      0      0       0        0       0     ─\n",
       "⎢                                                                             \n",
       "⎢                                                                             \n",
       "⎢                                                                    -√7⋅π    \n",
       "⎢0   0     0     0      0       0      0      0       0        0     ──────   \n",
       "⎢                                                                      35     \n",
       "⎢                                                                             \n",
       "⎢                                                           -√42⋅π            \n",
       "⎢0   0     0     0      0       0      0      0       0     ───────    0      \n",
       "⎢                                                              70             \n",
       "⎢                                                                             \n",
       "⎢                                                                    √105⋅π   \n",
       "⎢0   0     0     0      0       0      0      0       0        0     ──────   \n",
       "⎢                                                                     105     \n",
       "⎢                                                                             \n",
       "⎢                                                            √70⋅π            \n",
       "⎢0   0     0     0      0       0      0      0       0      ─────     0      \n",
       "⎣                                                              70             \n",
       "\n",
       "                                          ⎤\n",
       "  0       0        0        0         0   ⎥\n",
       "                                          ⎥\n",
       "                                          ⎥\n",
       "√3⋅π                                √3⋅π  ⎥\n",
       "────      0        0        0       ────  ⎥\n",
       " 15                                  5    ⎥\n",
       "                                          ⎥\n",
       "                           √3⋅π           ⎥\n",
       "  0       0        0       ────       0   ⎥\n",
       "                            15            ⎥\n",
       "                                          ⎥\n",
       "                 √3⋅π                     ⎥\n",
       "  0       0      ────       0         0   ⎥\n",
       "                  15                      ⎥\n",
       "                                          ⎥\n",
       "                                          ⎥\n",
       "  0       0        0        0         0   ⎥\n",
       "                                          ⎥\n",
       "                                          ⎥\n",
       "                                          ⎥\n",
       "  0       0        0        0         0   ⎥\n",
       "                                          ⎥\n",
       "                                          ⎥\n",
       "                                          ⎥\n",
       "  0       0        0        0         0   ⎥\n",
       "                                          ⎥\n",
       "                                          ⎥\n",
       "                                          ⎥\n",
       "  0       0        0        0         0   ⎥\n",
       "                                          ⎥\n",
       "                                          ⎥\n",
       "                                          ⎥\n",
       "  0       0        0        0         0   ⎥\n",
       "                                          ⎥\n",
       "                                          ⎥\n",
       "√70⋅π                              -√70⋅π ⎥\n",
       "─────     0        0        0      ───────⎥\n",
       "  70                                  70  ⎥\n",
       "                                          ⎥\n",
       "        √105⋅π                            ⎥\n",
       "  0     ──────     0        0         0   ⎥\n",
       "         105                              ⎥\n",
       "                                          ⎥\n",
       "√42⋅π                              -√42⋅π ⎥\n",
       "──────    0        0        0      ───────⎥\n",
       " 210                                  70  ⎥\n",
       "                                          ⎥\n",
       "                          -√7⋅π           ⎥\n",
       "  0       0        0      ──────      0   ⎥\n",
       "                            35            ⎥\n",
       "                                          ⎥\n",
       "                -√42⋅π                    ⎥\n",
       "  0       0     ───────     0         0   ⎥\n",
       "                  210                     ⎥\n",
       "                                          ⎥\n",
       "                         -√105⋅π          ⎥\n",
       "  0       0        0     ────────     0   ⎥\n",
       "                           105            ⎥\n",
       "                                          ⎥\n",
       "                -√70⋅π                    ⎥\n",
       "  0       0     ───────     0         0   ⎥\n",
       "                   70                     ⎦"
      ]
     },
     "execution_count": 4,
     "metadata": {},
     "output_type": "execute_result"
    }
   ],
   "source": [
    "M = Matrix(A1(3)).inv()\n",
    "M"
   ]
  },
  {
   "cell_type": "markdown",
   "metadata": {},
   "source": [
    "The polynomial describing the radial component of the velocity field on the projected disk of a star is given by (Short et al. 2018)\n",
    "\n",
    "$f(\\mathbf{x}, \\mathbf{y}, \\mathbf{z}) = \\omega_{eq}(A\\mathbf{x} + B\\mathbf{y})(1 - \\alpha(-B\\mathbf{x} + A\\mathbf{y} + C\\mathbf{z})^2)$\n",
    "\n",
    "where \n",
    "\n",
    "$A = \\sin(i)\\cos(\\lambda)$\n",
    "\n",
    "$B = \\sin(i)\\sin(\\lambda)$\n",
    "\n",
    "$C = \\cos(i)$\n",
    "\n",
    "and $i$ and $\\lambda$ are the stellar inclination and obliquity, respectively. The constant $\\alpha$ is the shear due to differential rotation. We are assuming a simple linear shear according to the following equation:\n",
    "\n",
    "$\\omega = \\omega_{eq}(1 - \\alpha \\sin^2\\theta)$,\n",
    "\n",
    "where $\\omega$ is the angular rotational velocity at a point on the surface, $\\omega_{eq}$ is the velocity at the equator, and $\\theta$ is the polar angle (latitude).\n",
    "\n",
    "Now, if we expand all the products in $f$, we can write it as a dot product of a polynomial coefficient vector and the polynomial basis defined in Luger et al. (2018):"
   ]
  },
  {
   "cell_type": "code",
   "execution_count": 12,
   "metadata": {},
   "outputs": [
    {
     "data": {
      "text/latex": [
       "$$\\left[\\begin{matrix}1\\\\x\\\\\\sqrt{- x^{2} - y^{2} + 1}\\\\y\\\\x^{2}\\\\x \\sqrt{- x^{2} - y^{2} + 1}\\\\x y\\\\y \\sqrt{- x^{2} - y^{2} + 1}\\\\y^{2}\\\\x^{3}\\\\x^{2} \\sqrt{- x^{2} - y^{2} + 1}\\\\x^{2} y\\\\x y \\sqrt{- x^{2} - y^{2} + 1}\\\\x y^{2}\\\\y^{2} \\sqrt{- x^{2} - y^{2} + 1}\\\\y^{3}\\end{matrix}\\right]$$"
      ],
      "text/plain": [
       "⎡          1           ⎤\n",
       "⎢                      ⎥\n",
       "⎢          x           ⎥\n",
       "⎢                      ⎥\n",
       "⎢     _______________  ⎥\n",
       "⎢    ╱    2    2       ⎥\n",
       "⎢  ╲╱  - x  - y  + 1   ⎥\n",
       "⎢                      ⎥\n",
       "⎢          y           ⎥\n",
       "⎢                      ⎥\n",
       "⎢           2          ⎥\n",
       "⎢          x           ⎥\n",
       "⎢                      ⎥\n",
       "⎢      _______________ ⎥\n",
       "⎢     ╱    2    2      ⎥\n",
       "⎢ x⋅╲╱  - x  - y  + 1  ⎥\n",
       "⎢                      ⎥\n",
       "⎢         x⋅y          ⎥\n",
       "⎢                      ⎥\n",
       "⎢      _______________ ⎥\n",
       "⎢     ╱    2    2      ⎥\n",
       "⎢ y⋅╲╱  - x  - y  + 1  ⎥\n",
       "⎢                      ⎥\n",
       "⎢           2          ⎥\n",
       "⎢          y           ⎥\n",
       "⎢                      ⎥\n",
       "⎢           3          ⎥\n",
       "⎢          x           ⎥\n",
       "⎢                      ⎥\n",
       "⎢      _______________ ⎥\n",
       "⎢ 2   ╱    2    2      ⎥\n",
       "⎢x ⋅╲╱  - x  - y  + 1  ⎥\n",
       "⎢                      ⎥\n",
       "⎢          2           ⎥\n",
       "⎢         x ⋅y         ⎥\n",
       "⎢                      ⎥\n",
       "⎢       _______________⎥\n",
       "⎢      ╱    2    2     ⎥\n",
       "⎢x⋅y⋅╲╱  - x  - y  + 1 ⎥\n",
       "⎢                      ⎥\n",
       "⎢            2         ⎥\n",
       "⎢         x⋅y          ⎥\n",
       "⎢                      ⎥\n",
       "⎢      _______________ ⎥\n",
       "⎢ 2   ╱    2    2      ⎥\n",
       "⎢y ⋅╲╱  - x  - y  + 1  ⎥\n",
       "⎢                      ⎥\n",
       "⎢           3          ⎥\n",
       "⎣          y           ⎦"
      ]
     },
     "execution_count": 12,
     "metadata": {},
     "output_type": "execute_result"
    }
   ],
   "source": [
    "# Compute the polynomial basis\n",
    "basis = Matrix([ptilde(n, x, y) for n in range(16)])\n",
    "basis"
   ]
  },
  {
   "cell_type": "code",
   "execution_count": 13,
   "metadata": {},
   "outputs": [
    {
     "data": {
      "image/png": "[encoded data removed]",
      "text/latex": [
       "$$\\left(A x + B y\\right) \\left(- \\alpha \\left(A y - B x + C \\sqrt{- x^{2} - y^{2} + 1}\\right)^{2} + 1\\right)$$"
      ],
      "text/plain": [
       "            ⎛                                      2    ⎞\n",
       "            ⎜    ⎛                 _______________⎞     ⎟\n",
       "            ⎜    ⎜                ╱    2    2     ⎟     ⎟\n",
       "(A⋅x + B⋅y)⋅⎝- α⋅⎝A⋅y - B⋅x + C⋅╲╱  - x  - y  + 1 ⎠  + 1⎠"
      ]
     },
     "execution_count": 13,
     "metadata": {},
     "output_type": "execute_result"
    }
   ],
   "source": [
    "# This is the function we wish to express\n",
    "f = (A * x + B * y) * (1 - alpha * (-B * x + A * y + C * sqrt(1 - x ** 2 - y ** 2)) ** 2)\n",
    "f"
   ]
  },
  {
   "cell_type": "code",
   "execution_count": 14,
   "metadata": {},
   "outputs": [
    {
     "data": {
      "text/latex": [
       "$$\\left[\\begin{matrix}0\\\\- A C^{2} \\alpha + A\\\\0\\\\- B C^{2} \\alpha + B\\\\0\\\\0\\\\0\\\\0\\\\0\\\\- A B^{2} \\alpha + A C^{2} \\alpha\\\\2 A B C \\alpha\\\\2 A^{2} B \\alpha - B^{3} \\alpha + B C^{2} \\alpha\\\\- 2 A^{2} C \\alpha + 2 B^{2} C \\alpha\\\\- A^{3} \\alpha + 2 A B^{2} \\alpha + A C^{2} \\alpha\\\\- 2 A B C \\alpha\\\\- A^{2} B \\alpha + B C^{2} \\alpha\\end{matrix}\\right]$$"
      ],
      "text/plain": [
       "⎡            0             ⎤\n",
       "⎢                          ⎥\n",
       "⎢            2             ⎥\n",
       "⎢       - A⋅C ⋅α + A       ⎥\n",
       "⎢                          ⎥\n",
       "⎢            0             ⎥\n",
       "⎢                          ⎥\n",
       "⎢            2             ⎥\n",
       "⎢       - B⋅C ⋅α + B       ⎥\n",
       "⎢                          ⎥\n",
       "⎢            0             ⎥\n",
       "⎢                          ⎥\n",
       "⎢            0             ⎥\n",
       "⎢                          ⎥\n",
       "⎢            0             ⎥\n",
       "⎢                          ⎥\n",
       "⎢            0             ⎥\n",
       "⎢                          ⎥\n",
       "⎢            0             ⎥\n",
       "⎢                          ⎥\n",
       "⎢         2        2       ⎥\n",
       "⎢    - A⋅B ⋅α + A⋅C ⋅α     ⎥\n",
       "⎢                          ⎥\n",
       "⎢        2⋅A⋅B⋅C⋅α         ⎥\n",
       "⎢                          ⎥\n",
       "⎢    2        3        2   ⎥\n",
       "⎢ 2⋅A ⋅B⋅α - B ⋅α + B⋅C ⋅α ⎥\n",
       "⎢                          ⎥\n",
       "⎢       2          2       ⎥\n",
       "⎢  - 2⋅A ⋅C⋅α + 2⋅B ⋅C⋅α   ⎥\n",
       "⎢                          ⎥\n",
       "⎢   3          2        2  ⎥\n",
       "⎢- A ⋅α + 2⋅A⋅B ⋅α + A⋅C ⋅α⎥\n",
       "⎢                          ⎥\n",
       "⎢        -2⋅A⋅B⋅C⋅α        ⎥\n",
       "⎢                          ⎥\n",
       "⎢       2          2       ⎥\n",
       "⎣    - A ⋅B⋅α + B⋅C ⋅α     ⎦"
      ]
     },
     "execution_count": 14,
     "metadata": {},
     "output_type": "execute_result"
    }
   ],
   "source": [
    "# These are the polynomial coefficients\n",
    "vec = Matrix([Coefficient(expand(f), term) for term in basis])\n",
    "vec"
   ]
  },
  {
   "cell_type": "markdown",
   "metadata": {},
   "source": [
    "We can check that dotting this vector with the polynomial basis yields the original function $f$:"
   ]
  },
  {
   "cell_type": "code",
   "execution_count": 15,
   "metadata": {},
   "outputs": [
    {
     "data": {
      "text/plain": [
       "True"
      ]
     },
     "execution_count": 15,
     "metadata": {},
     "output_type": "execute_result"
    }
   ],
   "source": [
    "simplify(factor(basis.transpose().dot(vec)) - f) == 0"
   ]
  },
  {
   "cell_type": "markdown",
   "metadata": {},
   "source": [
    "Finally, we can compute the spherical harmonic coefficients of the function $f$:"
   ]
  },
  {
   "cell_type": "code",
   "execution_count": 16,
   "metadata": {},
   "outputs": [
    {
     "data": {
      "text/latex": [
       "$$\\left[\\begin{matrix}0\\\\\\frac{\\sqrt{3} \\pi B \\left(- A^{2} \\alpha - B^{2} \\alpha - C^{2} \\alpha + 5\\right)}{15}\\\\0\\\\\\frac{\\sqrt{3} \\pi A \\left(- A^{2} \\alpha - B^{2} \\alpha - C^{2} \\alpha + 5\\right)}{15}\\\\0\\\\0\\\\0\\\\0\\\\0\\\\\\frac{\\sqrt{70} \\pi B \\alpha \\left(3 A^{2} - B^{2}\\right)}{70}\\\\\\frac{2 \\sqrt{105} \\pi C \\alpha \\left(- A^{2} + B^{2}\\right)}{105}\\\\\\frac{\\sqrt{42} \\pi B \\alpha \\left(A^{2} + B^{2} - 4 C^{2}\\right)}{210}\\\\0\\\\\\frac{\\sqrt{42} \\pi A \\alpha \\left(A^{2} + B^{2} - 4 C^{2}\\right)}{210}\\\\\\frac{4 \\sqrt{105} \\pi A B C \\alpha}{105}\\\\\\frac{\\sqrt{70} \\pi A \\alpha \\left(A^{2} - 3 B^{2}\\right)}{70}\\end{matrix}\\right]$$"
      ],
      "text/plain": [
       "⎡                0                ⎤\n",
       "⎢                                 ⎥\n",
       "⎢       ⎛   2      2      2      ⎞⎥\n",
       "⎢√3⋅π⋅B⋅⎝- A ⋅α - B ⋅α - C ⋅α + 5⎠⎥\n",
       "⎢─────────────────────────────────⎥\n",
       "⎢                15               ⎥\n",
       "⎢                                 ⎥\n",
       "⎢                0                ⎥\n",
       "⎢                                 ⎥\n",
       "⎢       ⎛   2      2      2      ⎞⎥\n",
       "⎢√3⋅π⋅A⋅⎝- A ⋅α - B ⋅α - C ⋅α + 5⎠⎥\n",
       "⎢─────────────────────────────────⎥\n",
       "⎢                15               ⎥\n",
       "⎢                                 ⎥\n",
       "⎢                0                ⎥\n",
       "⎢                                 ⎥\n",
       "⎢                0                ⎥\n",
       "⎢                                 ⎥\n",
       "⎢                0                ⎥\n",
       "⎢                                 ⎥\n",
       "⎢                0                ⎥\n",
       "⎢                                 ⎥\n",
       "⎢                0                ⎥\n",
       "⎢                                 ⎥\n",
       "⎢                ⎛   2    2⎞      ⎥\n",
       "⎢      √70⋅π⋅B⋅α⋅⎝3⋅A  - B ⎠      ⎥\n",
       "⎢      ─────────────────────      ⎥\n",
       "⎢                70               ⎥\n",
       "⎢                                 ⎥\n",
       "⎢                 ⎛   2    2⎞     ⎥\n",
       "⎢    2⋅√105⋅π⋅C⋅α⋅⎝- A  + B ⎠     ⎥\n",
       "⎢    ────────────────────────     ⎥\n",
       "⎢              105                ⎥\n",
       "⎢                                 ⎥\n",
       "⎢             ⎛ 2    2      2⎞    ⎥\n",
       "⎢   √42⋅π⋅B⋅α⋅⎝A  + B  - 4⋅C ⎠    ⎥\n",
       "⎢   ──────────────────────────    ⎥\n",
       "⎢              210                ⎥\n",
       "⎢                                 ⎥\n",
       "⎢                0                ⎥\n",
       "⎢                                 ⎥\n",
       "⎢             ⎛ 2    2      2⎞    ⎥\n",
       "⎢   √42⋅π⋅A⋅α⋅⎝A  + B  - 4⋅C ⎠    ⎥\n",
       "⎢   ──────────────────────────    ⎥\n",
       "⎢              210                ⎥\n",
       "⎢                                 ⎥\n",
       "⎢        4⋅√105⋅π⋅A⋅B⋅C⋅α         ⎥\n",
       "⎢        ────────────────         ⎥\n",
       "⎢              105                ⎥\n",
       "⎢                                 ⎥\n",
       "⎢                ⎛ 2      2⎞      ⎥\n",
       "⎢      √70⋅π⋅A⋅α⋅⎝A  - 3⋅B ⎠      ⎥\n",
       "⎢      ─────────────────────      ⎥\n",
       "⎣                70               ⎦"
      ]
     },
     "execution_count": 16,
     "metadata": {},
     "output_type": "execute_result"
    }
   ],
   "source": [
    "ycoeffs = simplify(M * vec)\n",
    "ycoeffs"
   ]
  },
  {
   "cell_type": "code",
   "execution_count": null,
   "metadata": {},
   "outputs": [],
   "source": []
  }
 ],
 "metadata": {
  "kernelspec": {
   "display_name": "Python 3",
   "language": "python",
   "name": "python3"
  },
  "language_info": {
   "codemirror_mode": {
    "name": "ipython",
    "version": 3
   },
   "file_extension": ".py",
   "mimetype": "text/x-python",
   "name": "python",
   "nbconvert_exporter": "python",
   "pygments_lexer": "ipython3",
   "version": "3.6.5"
  }
 },
 "nbformat": 4,
 "nbformat_minor": 2
}
